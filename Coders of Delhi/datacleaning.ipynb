{
 "cells": [
  {
   "cell_type": "code",
   "execution_count": 8,
   "id": "13c23a0c-6b90-4052-be03-f4ecd5f86d51",
   "metadata": {},
   "outputs": [],
   "source": [
    "import json\n",
    "\n",
    "# Load the data\n",
    "\n",
    "def load_data(filename):\n",
    "    with open(filename, \"r\") as f:\n",
    "        content = json.load(f)\n",
    "    return content"
   ]
  },
  {
   "cell_type": "code",
   "execution_count": 10,
   "id": "947c6805-5b49-435a-9b41-f5c5ebd9e969",
   "metadata": {},
   "outputs": [],
   "source": [
    "data = load_data(\"data2.json\")"
   ]
  },
  {
   "cell_type": "code",
   "execution_count": 12,
   "id": "07cf6a57-d228-4cce-929d-46f1d454c5bd",
   "metadata": {},
   "outputs": [
    {
     "data": {
      "text/plain": [
       "{'users': [{'id': 1, 'name': 'Amit', 'friends': [2, 3], 'liked_pages': [101]},\n",
       "  {'id': 2, 'name': 'Priya', 'friends': [1, 4], 'liked_pages': [102]},\n",
       "  {'id': 3, 'name': '', 'friends': [1], 'liked_pages': [101, 103]},\n",
       "  {'id': 4, 'name': 'Sara', 'friends': [2, 2], 'liked_pages': [104]},\n",
       "  {'id': 5, 'name': 'Amit', 'friends': [], 'liked_pages': []}],\n",
       " 'pages': [{'id': 101, 'name': 'Python Developers'},\n",
       "  {'id': 102, 'name': 'Data Science Enthusiasts'},\n",
       "  {'id': 103, 'name': 'AI & ML Community'},\n",
       "  {'id': 104, 'name': 'Web Dev Hub'},\n",
       "  {'id': 104, 'name': 'Web Development'}]}"
      ]
     },
     "execution_count": 12,
     "metadata": {},
     "output_type": "execute_result"
    }
   ],
   "source": [
    "data"
   ]
  },
  {
   "cell_type": "code",
   "execution_count": 29,
   "id": "f42e74fe-17cb-4b09-bad0-37a471afe68f",
   "metadata": {},
   "outputs": [],
   "source": [
    "def clean_data(data):\n",
    "    # Remove the users which do not have names\n",
    "    data['users'] = [user for user in data['users'] if user['name'].strip()]\n",
    "\n",
    "    # Remve duplicate friends\n",
    "    for user in data['users']:\n",
    "        data['friends'] = list[set(user['friends'])]\n",
    "\n",
    "    return data\n"
   ]
  },
  {
   "cell_type": "code",
   "execution_count": 31,
   "id": "d0599cbe-04d1-4df3-8299-1889465bde8a",
   "metadata": {},
   "outputs": [],
   "source": [
    "cleaned_data = clean_data(data)"
   ]
  },
  {
   "cell_type": "code",
   "execution_count": 33,
   "id": "ce39129f-f7ca-45e7-afcb-5b3934783248",
   "metadata": {},
   "outputs": [
    {
     "data": {
      "text/plain": [
       "{'users': [{'id': 1, 'name': 'Amit', 'friends': [2, 3], 'liked_pages': [101]},\n",
       "  {'id': 2, 'name': 'Priya', 'friends': [1, 4], 'liked_pages': [102]},\n",
       "  {'id': 4, 'name': 'Sara', 'friends': [2, 2], 'liked_pages': [104]},\n",
       "  {'id': 5, 'name': 'Amit', 'friends': [], 'liked_pages': []}],\n",
       " 'pages': [{'id': 101, 'name': 'Python Developers'},\n",
       "  {'id': 102, 'name': 'Data Science Enthusiasts'},\n",
       "  {'id': 103, 'name': 'AI & ML Community'},\n",
       "  {'id': 104, 'name': 'Web Dev Hub'},\n",
       "  {'id': 104, 'name': 'Web Development'}],\n",
       " 'friends': list[set()]}"
      ]
     },
     "execution_count": 33,
     "metadata": {},
     "output_type": "execute_result"
    }
   ],
   "source": [
    "cleaned_data"
   ]
  },
  {
   "cell_type": "code",
   "execution_count": null,
   "id": "b3a48fa8-cb33-4fe0-9c0b-e932d2d19d71",
   "metadata": {},
   "outputs": [],
   "source": []
  }
 ],
 "metadata": {
  "kernelspec": {
   "display_name": "Python [conda env:base] *",
   "language": "python",
   "name": "conda-base-py"
  },
  "language_info": {
   "codemirror_mode": {
    "name": "ipython",
    "version": 3
   },
   "file_extension": ".py",
   "mimetype": "text/x-python",
   "name": "python",
   "nbconvert_exporter": "python",
   "pygments_lexer": "ipython3",
   "version": "3.12.7"
  }
 },
 "nbformat": 4,
 "nbformat_minor": 5
}
