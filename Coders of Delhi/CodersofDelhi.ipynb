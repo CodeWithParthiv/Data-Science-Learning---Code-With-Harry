{
 "cells": [
  {
   "cell_type": "code",
   "execution_count": 1,
   "id": "bbe6d2d9-fd05-4f08-a247-c4b31b767f3d",
   "metadata": {},
   "outputs": [],
   "source": [
    "import json"
   ]
  },
  {
   "cell_type": "code",
   "execution_count": 3,
   "id": "46969c30-bcb6-4dec-b6b0-824df6c550d4",
   "metadata": {},
   "outputs": [],
   "source": [
    "# making a function to load the data\n",
    "\n",
    "def load_data(filename):\n",
    "    with open(filename, \"r\") as f:\n",
    "        content = json.load(f)\n",
    "    return content"
   ]
  },
  {
   "cell_type": "code",
   "execution_count": 7,
   "id": "c1f9f8fb-46b1-43bf-81c5-1724fca0a294",
   "metadata": {},
   "outputs": [],
   "source": [
    "data = load_data(\"data.json\")"
   ]
  },
  {
   "cell_type": "code",
   "execution_count": 9,
   "id": "aa98bf3c-d3de-4569-840d-09b5fa1b0f96",
   "metadata": {},
   "outputs": [
    {
     "data": {
      "text/plain": [
       "{'users': [{'id': 1, 'name': 'Amit', 'friends': [2, 3], 'liked_pages': [101]},\n",
       "  {'id': 2, 'name': 'Priya', 'friends': [1, 4], 'liked_pages': [102]},\n",
       "  {'id': 3, 'name': 'Rahul', 'friends': [1], 'liked_pages': [101, 103]},\n",
       "  {'id': 4, 'name': 'Sara', 'friends': [2], 'liked_pages': [104]}],\n",
       " 'pages': [{'id': 101, 'name': 'Python Developers'},\n",
       "  {'id': 102, 'name': 'Data Science Enthusiasts'},\n",
       "  {'id': 103, 'name': 'AI & ML Community'},\n",
       "  {'id': 104, 'name': 'Web Dev Hub'}]}"
      ]
     },
     "execution_count": 9,
     "metadata": {},
     "output_type": "execute_result"
    }
   ],
   "source": [
    "data"
   ]
  },
  {
   "cell_type": "code",
   "execution_count": 11,
   "id": "7799bbe1-1501-460f-9207-a834b9e47cac",
   "metadata": {},
   "outputs": [
    {
     "data": {
      "text/plain": [
       "dict"
      ]
     },
     "execution_count": 11,
     "metadata": {},
     "output_type": "execute_result"
    }
   ],
   "source": [
    "type(data)"
   ]
  },
  {
   "cell_type": "code",
   "execution_count": 51,
   "id": "bdcc22bd-75e7-4b74-a708-2aec7099505c",
   "metadata": {},
   "outputs": [],
   "source": [
    "id_to_name = {user['id']: user['name'] for user in data['users']}\n",
    "page_id_to_name = {page['id']: page['name'] for page in data['pages']}"
   ]
  },
  {
   "cell_type": "code",
   "execution_count": 53,
   "id": "42e99ec0-8069-48e3-8d30-228c1b9752da",
   "metadata": {},
   "outputs": [
    {
     "data": {
      "text/plain": [
       "{1: 'Amit', 2: 'Priya', 3: 'Rahul', 4: 'Sara'}"
      ]
     },
     "execution_count": 53,
     "metadata": {},
     "output_type": "execute_result"
    }
   ],
   "source": [
    "id_to_name"
   ]
  },
  {
   "cell_type": "code",
   "execution_count": 56,
   "id": "b82e81c4-0258-4024-81fc-8014d25a2ad5",
   "metadata": {},
   "outputs": [
    {
     "data": {
      "text/plain": [
       "{101: 'Python Developers',\n",
       " 102: 'Data Science Enthusiasts',\n",
       " 103: 'AI & ML Community',\n",
       " 104: 'Web Dev Hub'}"
      ]
     },
     "execution_count": 56,
     "metadata": {},
     "output_type": "execute_result"
    }
   ],
   "source": [
    "page_id_to_name"
   ]
  },
  {
   "cell_type": "code",
   "execution_count": 58,
   "id": "0c2eba2d-bc92-4689-9c87-9201fc039534",
   "metadata": {},
   "outputs": [
    {
     "name": "stdout",
     "output_type": "stream",
     "text": [
      "Users and their connections\n",
      "\n",
      "ID:1 - The name is Amit with liked pages ['Python Developers']. They are friends with ['Priya', 'Rahul']\n",
      "ID:2 - The name is Priya with liked pages ['Data Science Enthusiasts']. They are friends with ['Amit', 'Sara']\n",
      "ID:3 - The name is Rahul with liked pages ['Python Developers', 'AI & ML Community']. They are friends with ['Amit']\n",
      "ID:4 - The name is Sara with liked pages ['Web Dev Hub']. They are friends with ['Priya']\n",
      "\n",
      "Pages Information\n",
      "Page with id: 101 and Name: Python Developers\n",
      "Page with id: 102 and Name: Data Science Enthusiasts\n",
      "Page with id: 103 and Name: AI & ML Community\n",
      "Page with id: 104 and Name: Web Dev Hub\n"
     ]
    }
   ],
   "source": [
    "def display_users(content):\n",
    "    print(\"Users and their connections\\n\")\n",
    "\n",
    "    # Create lookup dictionaries\n",
    "    id_to_name = {user['id']: user['name'] for user in content['users']}\n",
    "    page_id_to_name = {page['id']: page['name'] for page in content['pages']}\n",
    "\n",
    "    for user in content[\"users\"]:\n",
    "        friend_names = [id_to_name[friend_id] for friend_id in user[\"friends\"]]\n",
    "        liked_page_names = [page_id_to_name[page_id] for page_id in user[\"liked_pages\"]]\n",
    "        print(f\"ID:{user['id']} - The name is {user['name']} with liked pages {liked_page_names}. They are friends with {friend_names}\")\n",
    "\n",
    "    print(\"\\nPages Information\")\n",
    "    for page in content[\"pages\"]:\n",
    "        print(f\"Page with id: {page['id']} and Name: {page['name']}\")\n",
    "\n",
    "display_users(data)"
   ]
  },
  {
   "cell_type": "code",
   "execution_count": null,
   "id": "2168991e-149a-425c-bae5-16af06d8c2b9",
   "metadata": {},
   "outputs": [],
   "source": []
  }
 ],
 "metadata": {
  "kernelspec": {
   "display_name": "Python [conda env:base] *",
   "language": "python",
   "name": "conda-base-py"
  },
  "language_info": {
   "codemirror_mode": {
    "name": "ipython",
    "version": 3
   },
   "file_extension": ".py",
   "mimetype": "text/x-python",
   "name": "python",
   "nbconvert_exporter": "python",
   "pygments_lexer": "ipython3",
   "version": "3.12.7"
  }
 },
 "nbformat": 4,
 "nbformat_minor": 5
}
